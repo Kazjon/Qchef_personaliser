{
 "cells": [
  {
   "cell_type": "markdown",
   "metadata": {
    "collapsed": true
   },
   "source": [
    "Libraries"
   ]
  },
  {
   "cell_type": "code",
   "execution_count": 1,
   "metadata": {},
   "outputs": [],
   "source": [
    "import os, pickle, numpy as np, pandas as pd\n",
    "from GloVex.evaluate_personalised import survey_reader\n",
    "from scipy.stats import pearsonr\n",
    "cwd = os.getcwd()"
   ]
  },
  {
   "cell_type": "markdown",
   "metadata": {},
   "source": [
    "Get the surprises of the users in the survey"
   ]
  },
  {
   "cell_type": "code",
   "execution_count": 2,
   "metadata": {},
   "outputs": [
    {
     "name": "stderr",
     "output_type": "stream",
     "text": [
      "GloVex/evaluate_personalised.py:313: SettingWithCopyWarning: \nA value is trying to be set on a copy of a slice from a DataFrame.\nTry using .loc[row_indexer,col_indexer] = value instead\n\nSee the caveats in the documentation: http://pandas.pydata.org/pandas-docs/stable/indexing.html#indexing-view-versus-copy\n  users_df['col_list'] = (np.array(users_df.values.tolist()) / scale).tolist()\n"
     ]
    }
   ],
   "source": [
    "survey_reader_obj = survey_reader()\n",
    "food_cuisine_survey_fn = cwd + '/personalized-surprise/Food and Cuisine Preferences Survey (Responses) - Form Responses 2'\n",
    "fam_cat_sorted = ['mexican', 'chinese', 'modern', 'greek', 'indian', 'thai', 'italian']\n",
    "users_fam_dir, familiar_cols, users_cuisine_pref, preference_cols, \\\n",
    "users_knowledge_ingredient, knowledge_ingredient_cols, users_knowledge_cuisine, cuisine_knowledge_cols, \\\n",
    "users_surp_ratings, surprise_rating_cols, users_surp_pref, surprise_preference_cols = \\\n",
    "\tsurvey_reader_obj.read_survey(food_cuisine_survey_fn, fam_cat_sorted)"
   ]
  },
  {
   "cell_type": "markdown",
   "metadata": {},
   "source": [
    "Divide the users into foodies and novices using the median of sum of familiarities"
   ]
  },
  {
   "cell_type": "code",
   "execution_count": 3,
   "metadata": {},
   "outputs": [],
   "source": [
    "# Array holding all of the sums\n",
    "sum_arr = []\n",
    "# Iterate over the users' familiarities\n",
    "for user_idx in sorted(users_fam_dir.keys()):\n",
    "\t# Get the familiarity scores\n",
    "\teach_fam = users_fam_dir[user_idx]\n",
    "\t# Calculate the sum of familiarity for each user\n",
    "\tsum_fam = sum(each_fam)\n",
    "\t# Append the sum of familiarity of each user to the sum array\n",
    "\tsum_arr.append(sum_fam)\n",
    "median_fam = np.median(sum_arr)\n",
    "# Split the users into foodeis and novices using the median\n",
    "foodie_fam_dict = {}\n",
    "foodie_surp_ratings_dict = {}\n",
    "novice_fam_dict = {}\n",
    "novice_surp_ratings_dict = {}\n",
    "# Iterate over the users' familiarities\n",
    "for user_idx in sorted(users_fam_dir.keys()):\n",
    "\t# Get the familiarity and surprise scores\n",
    "\teach_fam = users_fam_dir[user_idx]\n",
    "\teach_surp = users_surp_ratings[user_idx]\n",
    "\t# Calculate the sum of familiarity for each user\n",
    "\tsum_fam = sum(each_fam)\n",
    "\tif sum_fam > median_fam:\n",
    "\t\t# print 'above median', each_fam\n",
    "\t\tfoodie_fam_dict[user_idx] = each_fam\n",
    "\t\tfoodie_surp_ratings_dict[user_idx] = each_surp\n",
    "\telse:\n",
    "\t\t# print 'below median', each_fam\n",
    "\t\tnovice_fam_dict[user_idx] = each_fam\n",
    "\t\tnovice_surp_ratings_dict[user_idx] = each_surp\n",
    "# List the foodies and novices in two separate lists\n",
    "foodie_users = sorted(foodie_fam_dict.keys())\n",
    "novice_users = sorted(novice_fam_dict.keys())"
   ]
  },
  {
   "cell_type": "markdown",
   "metadata": {},
   "source": [
    "Get cuisine softmax probability"
   ]
  },
  {
   "cell_type": "code",
   "execution_count": 4,
   "metadata": {},
   "outputs": [],
   "source": [
    "# 73106,mexican\n",
    "# 73107,thai\n",
    "# 73108,modern\n",
    "# 73109,modern\n",
    "# 73110,chinese\n",
    "# 73111,indian\n",
    "# 73112,italian\n",
    "# 73113,modern\n",
    "# 73114,greek\n",
    "# 73115,mexican\n",
    "# 73116,greek\n",
    "# 73117,thai\n",
    "# 73118,modern\n",
    "# 73119,italian\n",
    "# 73120,chinese\n",
    "# 73121,indian\n",
    "fam_cat_sorted = ['mexican', 'chinese', 'modern', 'greek', 'indian', 'thai', 'italian']\n",
    "recipe_cuisines = \\\n",
    "{73106: 'mexican', 73107: 'thai', 73108: 'modern', 73109: 'modern', 73110: 'chinese', 73111: 'indian', 73112: 'italian', 73113: 'modern',\n",
    " 73114: 'greek', 73115: 'mexican', 73116: 'greek', 73117: 'thai', 73118: 'modern', 73119: 'italian', 73120: 'chinese', 73121: 'indian'}\n",
    "cuisine_softmax = {}\n",
    "for each_recipe in sorted(recipe_cuisines):\n",
    "\t# print each_recipe, recipe_cuisines[each_recipe]\n",
    "\tcuisine_softmax[each_recipe] = []\n",
    "\tfor each_cuisine in fam_cat_sorted:\n",
    "\t\t# print 'each_cuisine', each_cuisine\n",
    "\t\tif recipe_cuisines[each_recipe] == each_cuisine:\n",
    "\t\t\tcuisine_softmax[each_recipe].append(0.2)\n",
    "\t\telse:\n",
    "\t\t\tcuisine_softmax[each_recipe].append(0)\n",
    "cuisine_softmax_cols = [each_cuisine + '_softmax' for each_cuisine in fam_cat_sorted]"
   ]
  },
  {
   "cell_type": "markdown",
   "metadata": {},
   "source": [
    "Get the personalized surprise estimates by the model"
   ]
  },
  {
   "cell_type": "code",
   "execution_count": 5,
   "metadata": {},
   "outputs": [],
   "source": [
    "familiarity_measure = 'recipes_self_reported'\n",
    "# familiarity_measure = 'recipes_knowledge'\n",
    "# familiarity_measure = 'recipes_averaged'\n",
    "user_suprise_estimates_pickle_fn = cwd + '/GloVex/results/' + familiarity_measure + '/user_suprise_estimates.pickle'\n",
    "user_suprise_estimates_dict = pickle.load(open(user_suprise_estimates_pickle_fn,'rb'))"
   ]
  },
  {
   "cell_type": "markdown",
   "metadata": {},
   "source": [
    "Get the personalized surprise estimates (95th percentile and max score)"
   ]
  },
  {
   "cell_type": "code",
   "execution_count": 6,
   "metadata": {},
   "outputs": [],
   "source": [
    "# Initialize surprise estimates for 95th percentile and max score\n",
    "personalized_surp_estimates_90perc_dict = {}\n",
    "personalized_surp_estimates_95perc_dict = {}\n",
    "personalized_surp_estimates_max_dict = {}\n",
    "# Iterate over the user surprise estimeates dict\n",
    "for each_user in sorted(user_suprise_estimates_dict.keys()):\n",
    "\t# print 'each_user', each_user\n",
    "\t# Initialize the inner dicts for 90th and 95th percentiles and max score\n",
    "\tpersonalized_surp_estimates_90perc_dict[each_user] = {}\n",
    "\tpersonalized_surp_estimates_95perc_dict[each_user] = {}\n",
    "\tpersonalized_surp_estimates_max_dict[each_user] = {}\n",
    "\t# Iterate over the surprises for each user's surprise estimates\n",
    "\tfor each_recipe in sorted(user_suprise_estimates_dict[each_user]['recipes_surp']):\n",
    "\t\t# print 'each_recipe', each_recipe\n",
    "\t\t# Get the 90th and 95th percentiles and max\n",
    "\t\tuser_suprise_90th_percentile = user_suprise_estimates_dict[each_user]['recipes_surp'][each_recipe]['90th_percentile']\n",
    "\t\tuser_suprise_95th_percentile = user_suprise_estimates_dict[each_user]['recipes_surp'][each_recipe]['95th_percentile']\n",
    "\t\tuser_suprise_max = max([each_ingr_comb[2] \n",
    "\t\t\tfor each_ingr_comb in user_suprise_estimates_dict[each_user]['recipes_surp'][each_recipe]['surprise_cuisine']])\n",
    "\t\t# Add the user's surprise estimates to the dict\n",
    "\t\tpersonalized_surp_estimates_90perc_dict[each_user][each_recipe] = user_suprise_90th_percentile\n",
    "\t\tpersonalized_surp_estimates_95perc_dict[each_user][each_recipe] = user_suprise_95th_percentile\n",
    "\t\tpersonalized_surp_estimates_max_dict[each_user][each_recipe] = user_suprise_max"
   ]
  },
  {
   "cell_type": "markdown",
   "metadata": {},
   "source": [
    "Get the oracle surprise estimates by the model"
   ]
  },
  {
   "cell_type": "code",
   "execution_count": 7,
   "metadata": {},
   "outputs": [],
   "source": [
    "oracle_suprise_pickle_fn = cwd + '/GloVex/results/recipes_oracle/oracle_suprise.pickle'\n",
    "oracle_suprise_dict = pickle.load(open(oracle_suprise_pickle_fn, 'rb'))"
   ]
  },
  {
   "cell_type": "markdown",
   "metadata": {},
   "source": [
    "Get the oracle's surprise estimates (90th and 95th percentiles and max score)"
   ]
  },
  {
   "cell_type": "code",
   "execution_count": 8,
   "metadata": {},
   "outputs": [],
   "source": [
    "# Initialize arrays\n",
    "oracle_surp_estimates_90perc_dict = {}\n",
    "oracle_surp_estimates_95perc_dict = {}\n",
    "oracle_surp_estimates_max_dict = {}\n",
    "observed_surp_estimates_90perc_dict = {}\n",
    "observed_surp_estimates_95perc_dict = {}\n",
    "observed_surp_estimates_max_dict = {}\n",
    "# Iterate over the dict\n",
    "for each_recipe in sorted(oracle_suprise_dict):\n",
    "\t# print 'each_recipe', each_recipe\n",
    "\t# Get all of the ingredients combinations' surprise estimates\n",
    "\toracle_ingr_surp_estimates = [each_ingr_comb[2] for each_ingr_comb in oracle_suprise_dict[each_recipe]['surprise_cuisine']]\n",
    "\tobserved_ingr_surp_estimates = [each_ingr_comb[2] for each_ingr_comb in oracle_suprise_dict[each_recipe]['observed_surprise_cuisine']]\n",
    "\t# Add the 90th and 95th_percentiles and max surprise estimates to the dict\n",
    "\toracle_surp_estimates_90perc_dict[each_recipe] = oracle_suprise_dict[each_recipe]['90th_percentile']\n",
    "\toracle_surp_estimates_95perc_dict[each_recipe] = oracle_suprise_dict[each_recipe]['95th_percentile']\n",
    "\toracle_surp_estimates_max_dict[each_recipe] = max(oracle_ingr_surp_estimates)\n",
    "\tobserved_surp_estimates_90perc_dict[each_recipe] = oracle_suprise_dict[each_recipe]['observed_90th_percentile']\n",
    "\tobserved_surp_estimates_95perc_dict[each_recipe] = oracle_suprise_dict[each_recipe]['observed_95th_percentile']\n",
    "\tobserved_surp_estimates_max_dict[each_recipe] = max(observed_ingr_surp_estimates)"
   ]
  },
  {
   "cell_type": "markdown",
   "metadata": {},
   "source": [
    "Compile data"
   ]
  },
  {
   "cell_type": "markdown",
   "metadata": {},
   "source": [
    "For all users"
   ]
  },
  {
   "cell_type": "code",
   "execution_count": 9,
   "metadata": {},
   "outputs": [],
   "source": [
    "# Get recipes' and users' keys\n",
    "users_keys = sorted(users_fam_dir.keys())\n",
    "recipes_keys = sorted(oracle_suprise_dict.keys())\n",
    "# Initialize the array that will hold the users' input for training using the header\n",
    "user_input_train_arr = [['User ID', 'Recipe ID'] + familiar_cols + preference_cols + cuisine_knowledge_cols + cuisine_softmax_cols + \\\n",
    "\t['observed_surp_estimates_90perc', 'observed_surp_estimates_95perc', 'observed_surp_estimates_max',\n",
    "\t 'oracle_surp_estimates_90perc', 'oracle_surp_estimates_95perc', 'oracle_surp_estimates_max',\n",
    "\t 'personalized_surp_estimates_90perc', 'personalized_surp_estimates_95perc', 'personalized_surp_estimates_max',\n",
    "\t 'users_surp_pref', 'users_surp_ratings']]\n",
    "# Iterate over the users' keys\n",
    "for each_user in users_keys:\n",
    "\t# print 'each_user', each_user\n",
    "\tfor recipe_idx, each_recipe in enumerate(recipes_keys):\n",
    "\t\t# print recipe_idx, each_recipe\n",
    "\t\t# Get the users' familiarity, users' cuisine preference, users' knowledge, recipe's softmax probability\n",
    "\t\tuser_input_train_arr.append(\n",
    "\t\t\t[each_user, each_recipe] + \\\n",
    "\t\t\tusers_fam_dir[each_user] + \\\n",
    "\t\t\tusers_cuisine_pref[each_user] + \\\n",
    "\t\t\tusers_knowledge_cuisine[each_user] + \\\n",
    "\t\t\tcuisine_softmax[each_recipe] + \\\n",
    "\t\t\t[\n",
    "\t\t\t\tobserved_surp_estimates_90perc_dict[each_recipe], + \\\n",
    "\t\t\t\tobserved_surp_estimates_95perc_dict[each_recipe], + \\\n",
    "\t\t\t\tobserved_surp_estimates_max_dict[each_recipe], + \\\n",
    "\t\t\t\toracle_surp_estimates_90perc_dict[each_recipe], + \\\n",
    "\t\t\t\toracle_surp_estimates_95perc_dict[each_recipe], + \\\n",
    "\t\t\t\toracle_surp_estimates_max_dict[each_recipe], + \\\n",
    "\t\t\t\tpersonalized_surp_estimates_90perc_dict[each_user][each_recipe], + \\\n",
    "\t\t\t\tpersonalized_surp_estimates_95perc_dict[each_user][each_recipe], + \\\n",
    "\t\t\t\tpersonalized_surp_estimates_max_dict[each_user][each_recipe], + \\\n",
    "\t\t\t\tusers_surp_pref[each_user][recipe_idx], + \\\n",
    "\t\t\t\tusers_surp_ratings[each_user][recipe_idx]\n",
    "\t\t\t]\n",
    "\t\t)"
   ]
  },
  {
   "cell_type": "markdown",
   "metadata": {},
   "source": [
    "For foodies"
   ]
  },
  {
   "cell_type": "code",
   "execution_count": 10,
   "metadata": {},
   "outputs": [],
   "source": [
    "# Initialize the array that will hold the users' input for training using the header\n",
    "foodies_input_train_arr = [['User ID', 'Recipe ID'] + familiar_cols + preference_cols + cuisine_knowledge_cols + cuisine_softmax_cols + \\\n",
    "\t['observed_surp_estimates_90perc', 'observed_surp_estimates_95perc', 'observed_surp_estimates_max',\n",
    "\t 'oracle_surp_estimates_90perc', 'oracle_surp_estimates_95perc', 'oracle_surp_estimates_max',\n",
    "\t 'personalized_surp_estimates_90perc', 'personalized_surp_estimates_95perc', 'personalized_surp_estimates_max',\n",
    "\t 'users_surp_pref', 'users_surp_ratings']]\n",
    "# Iterate over the users' keys\n",
    "for each_user in foodie_users:\n",
    "\t# print 'each_user', each_user\n",
    "\tfor recipe_idx, each_recipe in enumerate(recipes_keys):\n",
    "\t\t# print recipe_idx, each_recipe\n",
    "\t\t# Get the users' familiarity, users' cuisine preference, users' knowledge, recipe's softmax probability\n",
    "\t\tfoodies_input_train_arr.append(\n",
    "\t\t\t[each_user, each_recipe] + \\\n",
    "\t\t\tusers_fam_dir[each_user] + \\\n",
    "\t\t\tusers_cuisine_pref[each_user] + \\\n",
    "\t\t\tusers_knowledge_cuisine[each_user] + \\\n",
    "\t\t\tcuisine_softmax[each_recipe] + \\\n",
    "\t\t\t[\n",
    "\t\t\t\tobserved_surp_estimates_90perc_dict[each_recipe], + \\\n",
    "\t\t\t\tobserved_surp_estimates_95perc_dict[each_recipe], + \\\n",
    "\t\t\t\tobserved_surp_estimates_max_dict[each_recipe], + \\\n",
    "\t\t\t\toracle_surp_estimates_90perc_dict[each_recipe], + \\\n",
    "\t\t\t\toracle_surp_estimates_95perc_dict[each_recipe], + \\\n",
    "\t\t\t\toracle_surp_estimates_max_dict[each_recipe], + \\\n",
    "\t\t\t\tpersonalized_surp_estimates_90perc_dict[each_user][each_recipe], + \\\n",
    "\t\t\t\tpersonalized_surp_estimates_95perc_dict[each_user][each_recipe], + \\\n",
    "\t\t\t\tpersonalized_surp_estimates_max_dict[each_user][each_recipe], + \\\n",
    "\t\t\t\tusers_surp_pref[each_user][recipe_idx], + \\\n",
    "\t\t\t\tusers_surp_ratings[each_user][recipe_idx]\n",
    "\t\t\t]\n",
    "\t\t)"
   ]
  },
  {
   "cell_type": "markdown",
   "metadata": {},
   "source": [
    "For novices"
   ]
  },
  {
   "cell_type": "code",
   "execution_count": 11,
   "metadata": {},
   "outputs": [],
   "source": [
    "# Initialize the array that will hold the users' input for training using the header\n",
    "novices_input_train_arr = [['User ID', 'Recipe ID'] + familiar_cols + preference_cols + cuisine_knowledge_cols + cuisine_softmax_cols + \\\n",
    "\t['observed_surp_estimates_90perc', 'observed_surp_estimates_95perc', 'observed_surp_estimates_max',\n",
    "\t 'oracle_surp_estimates_90perc', 'oracle_surp_estimates_95perc', 'oracle_surp_estimates_max',\n",
    "\t 'personalized_surp_estimates_90perc', 'personalized_surp_estimates_95perc', 'personalized_surp_estimates_max',\n",
    "\t 'users_surp_pref', 'users_surp_ratings']]\n",
    "# Iterate over the users' keys\n",
    "for each_user in novice_users:\n",
    "\t# print 'each_user', each_user\n",
    "\tfor recipe_idx, each_recipe in enumerate(recipes_keys):\n",
    "\t\t# print recipe_idx, each_recipe\n",
    "\t\t# Get the users' familiarity, users' cuisine preference, users' knowledge, recipe's softmax probability\n",
    "\t\tnovices_input_train_arr.append(\n",
    "\t\t\t[each_user, each_recipe] + \\\n",
    "\t\t\tusers_fam_dir[each_user] + \\\n",
    "\t\t\tusers_cuisine_pref[each_user] + \\\n",
    "\t\t\tusers_knowledge_cuisine[each_user] + \\\n",
    "\t\t\tcuisine_softmax[each_recipe] + \\\n",
    "\t\t\t[\n",
    "\t\t\t\tobserved_surp_estimates_90perc_dict[each_recipe], + \\\n",
    "\t\t\t\tobserved_surp_estimates_95perc_dict[each_recipe], + \\\n",
    "\t\t\t\tobserved_surp_estimates_max_dict[each_recipe], + \\\n",
    "\t\t\t\toracle_surp_estimates_90perc_dict[each_recipe], + \\\n",
    "\t\t\t\toracle_surp_estimates_95perc_dict[each_recipe], + \\\n",
    "\t\t\t\toracle_surp_estimates_max_dict[each_recipe], + \\\n",
    "\t\t\t\tpersonalized_surp_estimates_90perc_dict[each_user][each_recipe], + \\\n",
    "\t\t\t\tpersonalized_surp_estimates_95perc_dict[each_user][each_recipe], + \\\n",
    "\t\t\t\tpersonalized_surp_estimates_max_dict[each_user][each_recipe], + \\\n",
    "\t\t\t\tusers_surp_pref[each_user][recipe_idx], + \\\n",
    "\t\t\t\tusers_surp_ratings[each_user][recipe_idx]\n",
    "\t\t\t]\n",
    "\t\t)"
   ]
  },
  {
   "cell_type": "markdown",
   "metadata": {},
   "source": [
    "Save the training input"
   ]
  },
  {
   "cell_type": "code",
   "execution_count": 12,
   "metadata": {},
   "outputs": [],
   "source": [
    "# Save all users input\n",
    "user_input_train_df = pd.DataFrame(user_input_train_arr)\n",
    "user_input_train_fn = cwd + '/qchef_input_training/users_input_train_' + familiarity_measure + '.csv'\n",
    "user_input_train_df.to_csv(user_input_train_fn, index=False, header=None)"
   ]
  },
  {
   "cell_type": "code",
   "execution_count": 13,
   "metadata": {},
   "outputs": [],
   "source": [
    "# Save foodies input\n",
    "foodie_input_train_df = pd.DataFrame(foodies_input_train_arr)\n",
    "foodie_input_train_fn = cwd + '/qchef_input_training/foodies_input_train_' + familiarity_measure + '.csv'\n",
    "foodie_input_train_df.to_csv(foodie_input_train_fn, index=False, header=None)"
   ]
  },
  {
   "cell_type": "code",
   "execution_count": 14,
   "metadata": {},
   "outputs": [],
   "source": [
    "# Save novices input\n",
    "novice_input_train_df = pd.DataFrame(novices_input_train_arr)\n",
    "novice_input_train_fn = cwd + '/qchef_input_training/novices_input_train_' + familiarity_measure + '.csv'\n",
    "novice_input_train_df.to_csv(novice_input_train_fn, index=False, header=None)"
   ]
  },
  {
   "cell_type": "code",
   "execution_count": null,
   "metadata": {},
   "outputs": [],
   "source": []
  }
 ],
 "metadata": {
  "kernelspec": {
   "display_name": "Python 2",
   "language": "python",
   "name": "python2"
  },
  "language_info": {
   "codemirror_mode": {
    "name": "ipython",
    "version": 2
   },
   "file_extension": ".py",
   "mimetype": "text/x-python",
   "name": "python",
   "nbconvert_exporter": "python",
   "pygments_lexer": "ipython2",
   "version": "2.7.6"
  }
 },
 "nbformat": 4,
 "nbformat_minor": 0
}
